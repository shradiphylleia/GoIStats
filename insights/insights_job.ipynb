{
 "cells": [
  {
   "cell_type": "code",
   "execution_count": 1,
   "metadata": {},
   "outputs": [],
   "source": [
    "import pandas as pd\n",
    "import matplotlib.pyplot as plt\n",
    "\n",
    "import sys\n",
    "import os\n",
    "\n",
    "root_dir = os.path.abspath(\"..\")\n",
    "sys.path.append(root_dir)"
   ]
  },
  {
   "cell_type": "code",
   "execution_count": 2,
   "metadata": {},
   "outputs": [
    {
     "data": {
      "text/html": [
       "<div>\n",
       "<style scoped>\n",
       "    .dataframe tbody tr th:only-of-type {\n",
       "        vertical-align: middle;\n",
       "    }\n",
       "\n",
       "    .dataframe tbody tr th {\n",
       "        vertical-align: top;\n",
       "    }\n",
       "\n",
       "    .dataframe thead th {\n",
       "        text-align: right;\n",
       "    }\n",
       "</style>\n",
       "<table border=\"1\" class=\"dataframe\">\n",
       "  <thead>\n",
       "    <tr style=\"text-align: right;\">\n",
       "      <th></th>\n",
       "      <th>name</th>\n",
       "      <th>Scheduled_Tribe</th>\n",
       "      <th>Scheduled_Caste</th>\n",
       "      <th>Other_Backward_Class</th>\n",
       "      <th>Others</th>\n",
       "      <th>All</th>\n",
       "    </tr>\n",
       "  </thead>\n",
       "  <tbody>\n",
       "    <tr>\n",
       "      <th>0</th>\n",
       "      <td>Andhra_Pradesh</td>\n",
       "      <td>3772</td>\n",
       "      <td>4565.0</td>\n",
       "      <td>4824</td>\n",
       "      <td>5550.0</td>\n",
       "      <td>4870</td>\n",
       "    </tr>\n",
       "    <tr>\n",
       "      <th>1</th>\n",
       "      <td>Arunachal_Pradesh</td>\n",
       "      <td>5517</td>\n",
       "      <td>5444.0</td>\n",
       "      <td>4399</td>\n",
       "      <td>4040.0</td>\n",
       "      <td>5276</td>\n",
       "    </tr>\n",
       "    <tr>\n",
       "      <th>2</th>\n",
       "      <td>Assam</td>\n",
       "      <td>3289</td>\n",
       "      <td>3387.0</td>\n",
       "      <td>3404</td>\n",
       "      <td>3523.0</td>\n",
       "      <td>3432</td>\n",
       "    </tr>\n",
       "    <tr>\n",
       "      <th>3</th>\n",
       "      <td>Bihar</td>\n",
       "      <td>2927</td>\n",
       "      <td>3058.0</td>\n",
       "      <td>3479</td>\n",
       "      <td>3691.0</td>\n",
       "      <td>3384</td>\n",
       "    </tr>\n",
       "    <tr>\n",
       "      <th>4</th>\n",
       "      <td>Chhattisgarh</td>\n",
       "      <td>2258</td>\n",
       "      <td>2347.0</td>\n",
       "      <td>2665</td>\n",
       "      <td>3187.0</td>\n",
       "      <td>2466</td>\n",
       "    </tr>\n",
       "  </tbody>\n",
       "</table>\n",
       "</div>"
      ],
      "text/plain": [
       "                name  Scheduled_Tribe  Scheduled_Caste  Other_Backward_Class  \\\n",
       "0     Andhra_Pradesh             3772           4565.0                  4824   \n",
       "1  Arunachal_Pradesh             5517           5444.0                  4399   \n",
       "2              Assam             3289           3387.0                  3404   \n",
       "3              Bihar             2927           3058.0                  3479   \n",
       "4       Chhattisgarh             2258           2347.0                  2665   \n",
       "\n",
       "   Others   All  \n",
       "0  5550.0  4870  \n",
       "1  4040.0  5276  \n",
       "2  3523.0  3432  \n",
       "3  3691.0  3384  \n",
       "4  3187.0  2466  "
      ]
     },
     "execution_count": 2,
     "metadata": {},
     "output_type": "execute_result"
    }
   ],
   "source": [
    "from mpce_social_grp import data_8R\n",
    "df_sg=pd.DataFrame(data_8R)\n",
    "df_sg.head()"
   ]
  },
  {
   "cell_type": "code",
   "execution_count": null,
   "metadata": {},
   "outputs": [],
   "source": []
  }
 ],
 "metadata": {
  "kernelspec": {
   "display_name": "Python 3",
   "language": "python",
   "name": "python3"
  },
  "language_info": {
   "codemirror_mode": {
    "name": "ipython",
    "version": 3
   },
   "file_extension": ".py",
   "mimetype": "text/x-python",
   "name": "python",
   "nbconvert_exporter": "python",
   "pygments_lexer": "ipython3",
   "version": "3.12.3"
  }
 },
 "nbformat": 4,
 "nbformat_minor": 2
}
